{
  "nbformat": 4,
  "nbformat_minor": 0,
  "metadata": {
    "colab": {
      "name": "creating ANN using keras.ipynb",
      "provenance": [],
      "collapsed_sections": [],
      "authorship_tag": "ABX9TyMnTDSFMdHi9D5db7fte+98",
      "include_colab_link": true
    },
    "kernelspec": {
      "name": "python3",
      "display_name": "Python 3"
    },
    "language_info": {
      "name": "python"
    }
  },
  "cells": [
    {
      "cell_type": "markdown",
      "metadata": {
        "id": "view-in-github",
        "colab_type": "text"
      },
      "source": [
        "<a href=\"https://colab.research.google.com/github/Bhakthipoorna/Deeplearning/blob/main/creating_ANN_using_keras.ipynb\" target=\"_parent\"><img src=\"https://colab.research.google.com/assets/colab-badge.svg\" alt=\"Open In Colab\"/></a>"
      ]
    },
    {
      "cell_type": "code",
      "metadata": {
        "id": "cgm3pSf1oH0s"
      },
      "source": [
        "import pandas as pd\n",
        "import numpy as np\n",
        "import matplotlib.pyplot as plt"
      ],
      "execution_count": null,
      "outputs": []
    },
    {
      "cell_type": "code",
      "metadata": {
        "id": "lKyUcD90qLU_"
      },
      "source": [
        "dataset=pd.read_csv('Churn_Modelling.csv')\n",
        "X=dataset.iloc[:,3:13]\n",
        "Y=dataset.iloc[:,13]"
      ],
      "execution_count": null,
      "outputs": []
    },
    {
      "cell_type": "code",
      "metadata": {
        "id": "HrfB2L-GqcJW"
      },
      "source": [
        "geography=pd.get_dummies(X['Geography'],drop_first=True)\n",
        "gender=pd.get_dummies(X['Gender'],drop_first=True)"
      ],
      "execution_count": null,
      "outputs": []
    },
    {
      "cell_type": "code",
      "metadata": {
        "id": "TV2kmkzWq0U7"
      },
      "source": [
        "X=pd.concat([X,geography,gender],axis=1)"
      ],
      "execution_count": null,
      "outputs": []
    },
    {
      "cell_type": "code",
      "metadata": {
        "id": "DiIyUBQQrHnL"
      },
      "source": [
        "X=X.drop(['Geography','Gender'],axis=1)"
      ],
      "execution_count": null,
      "outputs": []
    },
    {
      "cell_type": "code",
      "metadata": {
        "id": "J67CW83prMty"
      },
      "source": [
        "from sklearn.model_selection import train_test_split\n",
        "x_test,x_train,y_test,y_train=train_test_split(X,Y,test_size=0.2)"
      ],
      "execution_count": null,
      "outputs": []
    },
    {
      "cell_type": "code",
      "metadata": {
        "id": "pZZUeuJGsVWS"
      },
      "source": [
        "#Now lets make the ANN"
      ],
      "execution_count": null,
      "outputs": []
    },
    {
      "cell_type": "code",
      "metadata": {
        "id": "dAxI49zZsi9c"
      },
      "source": [
        "import keras\n",
        "from keras.models import Sequential\n",
        "from keras.layers import Dense\n",
        "from keras.layers import Dropout  #Adding dropout layer is only when our model is underfit"
      ],
      "execution_count": null,
      "outputs": []
    },
    {
      "cell_type": "code",
      "metadata": {
        "id": "ae_FYscQswfy"
      },
      "source": [
        "#Initialising the ANN\n",
        "classifier=Sequential()"
      ],
      "execution_count": null,
      "outputs": []
    },
    {
      "cell_type": "code",
      "metadata": {
        "id": "RHgvXhXNtJFg"
      },
      "source": [
        "#Addding the input layer and the first hidden layer\n",
        "classifier.add(Dense(units=6,kernel_initializer='he_uniform',activation='relu',input_dim=11))\n",
        "classifier.add(Dropout(0.3))\n",
        "#it will create a imput layer and first hidden layer\n",
        "# input_dim=11 is the total  no. of input layer neurons(i.e. input features)\n",
        "#units=6 is the 6 neurons in the 1st hidden layer \n",
        "#Kernal_initializer is the weight initialization technique"
      ],
      "execution_count": null,
      "outputs": []
    },
    {
      "cell_type": "code",
      "metadata": {
        "id": "vI-FM_8pta80"
      },
      "source": [
        "#Addding 2nd input layer\n",
        "classifier.add(Dense(units=6,kernel_initializer='he_uniform',activation='relu'))\n",
        "classifier.add(Dropout(0.4))"
      ],
      "execution_count": null,
      "outputs": []
    },
    {
      "cell_type": "code",
      "metadata": {
        "id": "mw3iqJXJvQs0"
      },
      "source": [
        "#Output layer\n",
        "classifier.add(Dense(units=1,kernel_initializer='glorot_uniform',activation='sigmoid'))\n",
        "classifier.add(Dropout(0.2))"
      ],
      "execution_count": null,
      "outputs": []
    },
    {
      "cell_type": "code",
      "metadata": {
        "id": "a1veYcsSvfwR"
      },
      "source": [
        "#Compiling the ANN\n",
        "classifier.compile(optimizer='Adamax',loss='binary_crossentropy',metrics=['accuracy'])"
      ],
      "execution_count": null,
      "outputs": []
    },
    {
      "cell_type": "code",
      "metadata": {
        "colab": {
          "base_uri": "https://localhost:8080/"
        },
        "id": "MGUdjBr1wJ25",
        "outputId": "d38a7014-e4ad-400c-dd68-bece8755ebb6"
      },
      "source": [
        "#Fitting the ANN\n",
        "model_history=classifier.fit(x_train,y_train,validation_split=0.33,batch_size=10,epochs=100)"
      ],
      "execution_count": null,
      "outputs": [
        {
          "output_type": "stream",
          "text": [
            "Epoch 1/100\n",
            "134/134 [==============================] - 1s 4ms/step - loss: 1.1189 - accuracy: 0.4551 - val_loss: 0.6455 - val_accuracy: 0.8124\n",
            "Epoch 2/100\n",
            "134/134 [==============================] - 0s 2ms/step - loss: 1.1841 - accuracy: 0.4542 - val_loss: 0.6099 - val_accuracy: 0.8124\n",
            "Epoch 3/100\n",
            "134/134 [==============================] - 0s 2ms/step - loss: 1.2382 - accuracy: 0.5098 - val_loss: 0.5816 - val_accuracy: 0.8124\n",
            "Epoch 4/100\n",
            "134/134 [==============================] - 0s 2ms/step - loss: 1.0451 - accuracy: 0.6502 - val_loss: 0.5623 - val_accuracy: 0.8124\n",
            "Epoch 5/100\n",
            "134/134 [==============================] - 0s 2ms/step - loss: 1.0123 - accuracy: 0.7108 - val_loss: 0.5454 - val_accuracy: 0.8124\n",
            "Epoch 6/100\n",
            "134/134 [==============================] - 0s 2ms/step - loss: 1.0475 - accuracy: 0.7370 - val_loss: 0.5331 - val_accuracy: 0.8124\n",
            "Epoch 7/100\n",
            "134/134 [==============================] - 0s 2ms/step - loss: 1.0055 - accuracy: 0.7709 - val_loss: 0.5223 - val_accuracy: 0.8124\n",
            "Epoch 8/100\n",
            "134/134 [==============================] - 0s 2ms/step - loss: 1.0755 - accuracy: 0.7916 - val_loss: 0.5135 - val_accuracy: 0.8124\n",
            "Epoch 9/100\n",
            "134/134 [==============================] - 0s 2ms/step - loss: 1.3287 - accuracy: 0.7596 - val_loss: 0.5083 - val_accuracy: 0.8124\n",
            "Epoch 10/100\n",
            "134/134 [==============================] - 0s 2ms/step - loss: 1.1364 - accuracy: 0.8040 - val_loss: 0.5016 - val_accuracy: 0.8124\n",
            "Epoch 11/100\n",
            "134/134 [==============================] - 0s 2ms/step - loss: 0.9530 - accuracy: 0.8070 - val_loss: 0.4988 - val_accuracy: 0.8124\n",
            "Epoch 12/100\n",
            "134/134 [==============================] - 0s 2ms/step - loss: 1.0294 - accuracy: 0.8156 - val_loss: 0.4962 - val_accuracy: 0.8124\n",
            "Epoch 13/100\n",
            "134/134 [==============================] - 0s 2ms/step - loss: 0.8670 - accuracy: 0.8117 - val_loss: 0.4940 - val_accuracy: 0.8124\n",
            "Epoch 14/100\n",
            "134/134 [==============================] - 0s 2ms/step - loss: 1.1317 - accuracy: 0.7898 - val_loss: 0.4922 - val_accuracy: 0.8124\n",
            "Epoch 15/100\n",
            "134/134 [==============================] - 0s 2ms/step - loss: 1.1445 - accuracy: 0.8039 - val_loss: 0.4909 - val_accuracy: 0.8124\n",
            "Epoch 16/100\n",
            "134/134 [==============================] - 0s 2ms/step - loss: 1.0440 - accuracy: 0.8168 - val_loss: 0.4893 - val_accuracy: 0.8124\n",
            "Epoch 17/100\n",
            "134/134 [==============================] - 0s 2ms/step - loss: 0.8387 - accuracy: 0.8186 - val_loss: 0.4887 - val_accuracy: 0.8124\n",
            "Epoch 18/100\n",
            "134/134 [==============================] - 0s 2ms/step - loss: 1.1780 - accuracy: 0.7915 - val_loss: 0.4882 - val_accuracy: 0.8124\n",
            "Epoch 19/100\n",
            "134/134 [==============================] - 0s 2ms/step - loss: 1.1491 - accuracy: 0.8048 - val_loss: 0.4878 - val_accuracy: 0.8124\n",
            "Epoch 20/100\n",
            "134/134 [==============================] - 0s 2ms/step - loss: 1.0998 - accuracy: 0.7949 - val_loss: 0.4874 - val_accuracy: 0.8124\n",
            "Epoch 21/100\n",
            "134/134 [==============================] - 0s 2ms/step - loss: 1.0284 - accuracy: 0.7973 - val_loss: 0.4870 - val_accuracy: 0.8124\n",
            "Epoch 22/100\n",
            "134/134 [==============================] - 0s 2ms/step - loss: 1.2010 - accuracy: 0.8057 - val_loss: 0.4860 - val_accuracy: 0.8124\n",
            "Epoch 23/100\n",
            "134/134 [==============================] - 0s 2ms/step - loss: 0.8952 - accuracy: 0.8116 - val_loss: 0.4855 - val_accuracy: 0.8124\n",
            "Epoch 24/100\n",
            "134/134 [==============================] - 0s 2ms/step - loss: 1.2015 - accuracy: 0.7909 - val_loss: 0.4849 - val_accuracy: 0.8124\n",
            "Epoch 25/100\n",
            "134/134 [==============================] - 0s 2ms/step - loss: 1.0050 - accuracy: 0.7991 - val_loss: 0.4845 - val_accuracy: 0.8124\n",
            "Epoch 26/100\n",
            "134/134 [==============================] - 0s 2ms/step - loss: 1.0243 - accuracy: 0.8257 - val_loss: 0.4841 - val_accuracy: 0.8124\n",
            "Epoch 27/100\n",
            "134/134 [==============================] - 0s 2ms/step - loss: 1.0647 - accuracy: 0.7959 - val_loss: 0.4842 - val_accuracy: 0.8124\n",
            "Epoch 28/100\n",
            "134/134 [==============================] - 0s 2ms/step - loss: 0.9781 - accuracy: 0.8116 - val_loss: 0.4840 - val_accuracy: 0.8124\n",
            "Epoch 29/100\n",
            "134/134 [==============================] - 0s 2ms/step - loss: 0.9021 - accuracy: 0.8107 - val_loss: 0.4839 - val_accuracy: 0.8124\n",
            "Epoch 30/100\n",
            "134/134 [==============================] - 0s 2ms/step - loss: 0.9519 - accuracy: 0.7944 - val_loss: 0.4838 - val_accuracy: 0.8124\n",
            "Epoch 31/100\n",
            "134/134 [==============================] - 0s 2ms/step - loss: 1.0932 - accuracy: 0.8074 - val_loss: 0.4835 - val_accuracy: 0.8124\n",
            "Epoch 32/100\n",
            "134/134 [==============================] - 0s 2ms/step - loss: 0.9253 - accuracy: 0.8091 - val_loss: 0.4833 - val_accuracy: 0.8124\n",
            "Epoch 33/100\n",
            "134/134 [==============================] - 0s 2ms/step - loss: 1.0664 - accuracy: 0.8035 - val_loss: 0.4832 - val_accuracy: 0.8124\n",
            "Epoch 34/100\n",
            "134/134 [==============================] - 0s 2ms/step - loss: 1.0152 - accuracy: 0.7946 - val_loss: 0.4831 - val_accuracy: 0.8124\n",
            "Epoch 35/100\n",
            "134/134 [==============================] - 0s 2ms/step - loss: 0.9513 - accuracy: 0.8231 - val_loss: 0.4830 - val_accuracy: 0.8124\n",
            "Epoch 36/100\n",
            "134/134 [==============================] - 0s 2ms/step - loss: 0.9460 - accuracy: 0.8112 - val_loss: 0.4830 - val_accuracy: 0.8124\n",
            "Epoch 37/100\n",
            "134/134 [==============================] - 0s 2ms/step - loss: 0.9969 - accuracy: 0.8138 - val_loss: 0.4829 - val_accuracy: 0.8124\n",
            "Epoch 38/100\n",
            "134/134 [==============================] - 0s 2ms/step - loss: 1.0574 - accuracy: 0.7793 - val_loss: 0.4829 - val_accuracy: 0.8124\n",
            "Epoch 39/100\n",
            "134/134 [==============================] - 0s 2ms/step - loss: 0.9633 - accuracy: 0.8140 - val_loss: 0.4828 - val_accuracy: 0.8124\n",
            "Epoch 40/100\n",
            "134/134 [==============================] - 0s 2ms/step - loss: 1.0957 - accuracy: 0.7942 - val_loss: 0.4828 - val_accuracy: 0.8124\n",
            "Epoch 41/100\n",
            "134/134 [==============================] - 0s 2ms/step - loss: 1.0379 - accuracy: 0.8030 - val_loss: 0.4828 - val_accuracy: 0.8124\n",
            "Epoch 42/100\n",
            "134/134 [==============================] - 0s 2ms/step - loss: 1.0339 - accuracy: 0.7892 - val_loss: 0.4827 - val_accuracy: 0.8124\n",
            "Epoch 43/100\n",
            "134/134 [==============================] - 0s 2ms/step - loss: 0.9994 - accuracy: 0.8107 - val_loss: 0.4827 - val_accuracy: 0.8124\n",
            "Epoch 44/100\n",
            "134/134 [==============================] - 0s 2ms/step - loss: 1.0209 - accuracy: 0.8051 - val_loss: 0.4827 - val_accuracy: 0.8124\n",
            "Epoch 45/100\n",
            "134/134 [==============================] - 0s 2ms/step - loss: 0.8556 - accuracy: 0.8162 - val_loss: 0.4827 - val_accuracy: 0.8124\n",
            "Epoch 46/100\n",
            "134/134 [==============================] - 0s 2ms/step - loss: 0.8969 - accuracy: 0.8091 - val_loss: 0.4827 - val_accuracy: 0.8124\n",
            "Epoch 47/100\n",
            "134/134 [==============================] - 0s 2ms/step - loss: 0.9232 - accuracy: 0.8069 - val_loss: 0.4827 - val_accuracy: 0.8124\n",
            "Epoch 48/100\n",
            "134/134 [==============================] - 0s 2ms/step - loss: 0.8837 - accuracy: 0.8013 - val_loss: 0.4827 - val_accuracy: 0.8124\n",
            "Epoch 49/100\n",
            "134/134 [==============================] - 0s 2ms/step - loss: 1.1300 - accuracy: 0.8061 - val_loss: 0.4828 - val_accuracy: 0.8124\n",
            "Epoch 50/100\n",
            "134/134 [==============================] - 0s 2ms/step - loss: 1.0562 - accuracy: 0.8263 - val_loss: 0.4828 - val_accuracy: 0.8124\n",
            "Epoch 51/100\n",
            "134/134 [==============================] - 0s 2ms/step - loss: 0.9232 - accuracy: 0.8112 - val_loss: 0.4829 - val_accuracy: 0.8124\n",
            "Epoch 52/100\n",
            "134/134 [==============================] - 0s 2ms/step - loss: 0.9543 - accuracy: 0.8135 - val_loss: 0.4829 - val_accuracy: 0.8124\n",
            "Epoch 53/100\n",
            "134/134 [==============================] - 0s 2ms/step - loss: 1.1353 - accuracy: 0.7856 - val_loss: 0.4829 - val_accuracy: 0.8124\n",
            "Epoch 54/100\n",
            "134/134 [==============================] - 0s 2ms/step - loss: 1.0447 - accuracy: 0.8019 - val_loss: 0.4829 - val_accuracy: 0.8124\n",
            "Epoch 55/100\n",
            "134/134 [==============================] - 0s 2ms/step - loss: 0.8932 - accuracy: 0.8133 - val_loss: 0.4829 - val_accuracy: 0.8124\n",
            "Epoch 56/100\n",
            "134/134 [==============================] - 0s 2ms/step - loss: 0.9722 - accuracy: 0.7983 - val_loss: 0.4829 - val_accuracy: 0.8124\n",
            "Epoch 57/100\n",
            "134/134 [==============================] - 0s 2ms/step - loss: 1.0626 - accuracy: 0.7968 - val_loss: 0.4829 - val_accuracy: 0.8124\n",
            "Epoch 58/100\n",
            "134/134 [==============================] - 0s 2ms/step - loss: 0.9029 - accuracy: 0.8176 - val_loss: 0.4830 - val_accuracy: 0.8124\n",
            "Epoch 59/100\n",
            "134/134 [==============================] - 0s 2ms/step - loss: 0.9759 - accuracy: 0.8037 - val_loss: 0.4831 - val_accuracy: 0.8124\n",
            "Epoch 60/100\n",
            "134/134 [==============================] - 0s 2ms/step - loss: 1.1413 - accuracy: 0.8088 - val_loss: 0.4833 - val_accuracy: 0.8124\n",
            "Epoch 61/100\n",
            "134/134 [==============================] - 0s 2ms/step - loss: 0.8550 - accuracy: 0.8050 - val_loss: 0.4832 - val_accuracy: 0.8124\n",
            "Epoch 62/100\n",
            "134/134 [==============================] - 0s 2ms/step - loss: 1.0224 - accuracy: 0.8045 - val_loss: 0.4833 - val_accuracy: 0.8124\n",
            "Epoch 63/100\n",
            "134/134 [==============================] - 0s 2ms/step - loss: 1.0859 - accuracy: 0.7982 - val_loss: 0.4835 - val_accuracy: 0.8124\n",
            "Epoch 64/100\n",
            "134/134 [==============================] - 0s 2ms/step - loss: 0.8988 - accuracy: 0.8174 - val_loss: 0.4834 - val_accuracy: 0.8124\n",
            "Epoch 65/100\n",
            "134/134 [==============================] - 0s 2ms/step - loss: 1.0203 - accuracy: 0.7961 - val_loss: 0.4834 - val_accuracy: 0.8124\n",
            "Epoch 66/100\n",
            "134/134 [==============================] - 0s 2ms/step - loss: 0.8913 - accuracy: 0.7991 - val_loss: 0.4834 - val_accuracy: 0.8124\n",
            "Epoch 67/100\n",
            "134/134 [==============================] - 0s 2ms/step - loss: 0.8407 - accuracy: 0.8083 - val_loss: 0.4834 - val_accuracy: 0.8124\n",
            "Epoch 68/100\n",
            "134/134 [==============================] - 0s 2ms/step - loss: 1.1656 - accuracy: 0.7928 - val_loss: 0.4834 - val_accuracy: 0.8124\n",
            "Epoch 69/100\n",
            "134/134 [==============================] - 0s 2ms/step - loss: 1.0140 - accuracy: 0.7989 - val_loss: 0.4836 - val_accuracy: 0.8124\n",
            "Epoch 70/100\n",
            "134/134 [==============================] - 0s 2ms/step - loss: 0.9607 - accuracy: 0.8137 - val_loss: 0.4836 - val_accuracy: 0.8124\n",
            "Epoch 71/100\n",
            "134/134 [==============================] - 0s 2ms/step - loss: 1.0671 - accuracy: 0.8106 - val_loss: 0.4835 - val_accuracy: 0.8124\n",
            "Epoch 72/100\n",
            "134/134 [==============================] - 0s 2ms/step - loss: 0.9859 - accuracy: 0.8086 - val_loss: 0.4835 - val_accuracy: 0.8124\n",
            "Epoch 73/100\n",
            "134/134 [==============================] - 0s 2ms/step - loss: 1.1038 - accuracy: 0.7991 - val_loss: 0.4838 - val_accuracy: 0.8124\n",
            "Epoch 74/100\n",
            "134/134 [==============================] - 0s 2ms/step - loss: 0.9296 - accuracy: 0.8032 - val_loss: 0.4839 - val_accuracy: 0.8124\n",
            "Epoch 75/100\n",
            "134/134 [==============================] - 0s 2ms/step - loss: 1.0345 - accuracy: 0.8086 - val_loss: 0.4838 - val_accuracy: 0.8124\n",
            "Epoch 76/100\n",
            "134/134 [==============================] - 0s 2ms/step - loss: 1.1090 - accuracy: 0.7947 - val_loss: 0.4837 - val_accuracy: 0.8124\n",
            "Epoch 77/100\n",
            "134/134 [==============================] - 0s 2ms/step - loss: 0.9150 - accuracy: 0.8094 - val_loss: 0.4838 - val_accuracy: 0.8124\n",
            "Epoch 78/100\n",
            "134/134 [==============================] - 0s 2ms/step - loss: 0.8488 - accuracy: 0.8065 - val_loss: 0.4837 - val_accuracy: 0.8124\n",
            "Epoch 79/100\n",
            "134/134 [==============================] - 0s 2ms/step - loss: 0.9321 - accuracy: 0.8083 - val_loss: 0.4838 - val_accuracy: 0.8124\n",
            "Epoch 80/100\n",
            "134/134 [==============================] - 0s 2ms/step - loss: 0.9752 - accuracy: 0.8210 - val_loss: 0.4839 - val_accuracy: 0.8124\n",
            "Epoch 81/100\n",
            "134/134 [==============================] - 0s 2ms/step - loss: 1.0513 - accuracy: 0.8069 - val_loss: 0.4841 - val_accuracy: 0.8124\n",
            "Epoch 82/100\n",
            "134/134 [==============================] - 0s 2ms/step - loss: 1.0671 - accuracy: 0.8109 - val_loss: 0.4842 - val_accuracy: 0.8124\n",
            "Epoch 83/100\n",
            "134/134 [==============================] - 0s 2ms/step - loss: 0.8822 - accuracy: 0.8116 - val_loss: 0.4841 - val_accuracy: 0.8124\n",
            "Epoch 84/100\n",
            "134/134 [==============================] - 0s 2ms/step - loss: 0.9976 - accuracy: 0.7963 - val_loss: 0.4841 - val_accuracy: 0.8124\n",
            "Epoch 85/100\n",
            "134/134 [==============================] - 0s 2ms/step - loss: 1.1001 - accuracy: 0.8124 - val_loss: 0.4840 - val_accuracy: 0.8124\n",
            "Epoch 86/100\n",
            "134/134 [==============================] - 0s 2ms/step - loss: 1.1383 - accuracy: 0.7836 - val_loss: 0.4842 - val_accuracy: 0.8124\n",
            "Epoch 87/100\n",
            "134/134 [==============================] - 0s 2ms/step - loss: 1.1511 - accuracy: 0.7942 - val_loss: 0.4842 - val_accuracy: 0.8124\n",
            "Epoch 88/100\n",
            "134/134 [==============================] - 0s 2ms/step - loss: 1.2538 - accuracy: 0.8010 - val_loss: 0.4845 - val_accuracy: 0.8124\n",
            "Epoch 89/100\n",
            "134/134 [==============================] - 0s 2ms/step - loss: 1.0159 - accuracy: 0.8188 - val_loss: 0.4845 - val_accuracy: 0.8124\n",
            "Epoch 90/100\n",
            "134/134 [==============================] - 0s 2ms/step - loss: 0.9251 - accuracy: 0.8048 - val_loss: 0.4845 - val_accuracy: 0.8124\n",
            "Epoch 91/100\n",
            "134/134 [==============================] - 0s 2ms/step - loss: 1.0609 - accuracy: 0.8215 - val_loss: 0.4846 - val_accuracy: 0.8124\n",
            "Epoch 92/100\n",
            "134/134 [==============================] - 0s 2ms/step - loss: 1.0876 - accuracy: 0.8014 - val_loss: 0.4845 - val_accuracy: 0.8124\n",
            "Epoch 93/100\n",
            "134/134 [==============================] - 0s 2ms/step - loss: 1.2635 - accuracy: 0.7969 - val_loss: 0.4846 - val_accuracy: 0.8124\n",
            "Epoch 94/100\n",
            "134/134 [==============================] - 0s 2ms/step - loss: 1.0070 - accuracy: 0.7985 - val_loss: 0.4846 - val_accuracy: 0.8124\n",
            "Epoch 95/100\n",
            "134/134 [==============================] - 0s 2ms/step - loss: 1.0913 - accuracy: 0.7977 - val_loss: 0.4846 - val_accuracy: 0.8124\n",
            "Epoch 96/100\n",
            "134/134 [==============================] - 0s 2ms/step - loss: 0.9463 - accuracy: 0.8036 - val_loss: 0.4845 - val_accuracy: 0.8124\n",
            "Epoch 97/100\n",
            "134/134 [==============================] - 0s 2ms/step - loss: 0.8968 - accuracy: 0.8148 - val_loss: 0.4844 - val_accuracy: 0.8124\n",
            "Epoch 98/100\n",
            "134/134 [==============================] - 0s 2ms/step - loss: 0.8443 - accuracy: 0.8219 - val_loss: 0.4843 - val_accuracy: 0.8124\n",
            "Epoch 99/100\n",
            "134/134 [==============================] - 0s 2ms/step - loss: 1.1001 - accuracy: 0.7972 - val_loss: 0.4844 - val_accuracy: 0.8124\n",
            "Epoch 100/100\n",
            "134/134 [==============================] - 0s 2ms/step - loss: 0.8719 - accuracy: 0.8150 - val_loss: 0.4844 - val_accuracy: 0.8124\n"
          ],
          "name": "stdout"
        }
      ]
    },
    {
      "cell_type": "code",
      "metadata": {
        "colab": {
          "base_uri": "https://localhost:8080/"
        },
        "id": "bsNEvXDtwn_q",
        "outputId": "95965ad9-870f-43a5-ba72-4ff58090119e"
      },
      "source": [
        "print(model_history.history.keys())"
      ],
      "execution_count": null,
      "outputs": [
        {
          "output_type": "stream",
          "text": [
            "dict_keys(['loss', 'accuracy', 'val_loss', 'val_accuracy'])\n"
          ],
          "name": "stdout"
        }
      ]
    },
    {
      "cell_type": "code",
      "metadata": {
        "colab": {
          "base_uri": "https://localhost:8080/",
          "height": 638
        },
        "id": "_nf_jk591Eqj",
        "outputId": "1c76137b-5d19-403f-e0b0-04db27c4df3b"
      },
      "source": [
        "plt.figure(figsize=(10,10))\n",
        "plt.plot(model_history.history['accuracy'])\n",
        "plt.plot(model_history.history['val_accuracy'])\n",
        "plt.title('Model_accuracy')\n",
        "plt.ylabel('accuracy')\n",
        "plt.xlabel('epoch')"
      ],
      "execution_count": null,
      "outputs": [
        {
          "output_type": "execute_result",
          "data": {
            "text/plain": [
              "Text(0.5, 0, 'epoch')"
            ]
          },
          "metadata": {
            "tags": []
          },
          "execution_count": 82
        },
        {
          "output_type": "display_data",
          "data": {
            "image/png": "[encoded data removed]",
            "text/plain": [
              "<Figure size 720x720 with 1 Axes>"
            ]
          },
          "metadata": {
            "tags": [],
            "needs_background": "light"
          }
        }
      ]
    },
    {
      "cell_type": "code",
      "metadata": {
        "colab": {
          "base_uri": "https://localhost:8080/",
          "height": 638
        },
        "id": "8aNo8Rzp1qk4",
        "outputId": "3912c87b-e414-4f76-cdee-70399fa18b0c"
      },
      "source": [
        "plt.figure(figsize=(10,10))\n",
        "plt.plot(model_history.history['loss'])\n",
        "plt.plot(model_history.history['val_loss'])\n",
        "plt.title('Model_loss')\n",
        "plt.ylabel('loss')\n",
        "plt.xlabel('epoch')"
      ],
      "execution_count": null,
      "outputs": [
        {
          "output_type": "execute_result",
          "data": {
            "text/plain": [
              "Text(0.5, 0, 'epoch')"
            ]
          },
          "metadata": {
            "tags": []
          },
          "execution_count": 83
        },
        {
          "output_type": "display_data",
          "data": {
            "image/png": "[encoded data removed]",
            "text/plain": [
              "<Figure size 720x720 with 1 Axes>"
            ]
          },
          "metadata": {
            "tags": [],
            "needs_background": "light"
          }
        }
      ]
    },
    {
      "cell_type": "code",
      "metadata": {
        "id": "FmEBWCUD20Cm"
      },
      "source": [
        "y_pred=classifier.predict(x_test)\n",
        "y_pred=(y_pred>0.5)"
      ],
      "execution_count": null,
      "outputs": []
    },
    {
      "cell_type": "code",
      "metadata": {
        "colab": {
          "base_uri": "https://localhost:8080/"
        },
        "id": "CuoGL99C5Npn",
        "outputId": "c6d66f68-e60d-4202-9e61-ae7f8934c868"
      },
      "source": [
        "from sklearn.metrics import confusion_matrix,accuracy_score\n",
        "confusion_matrix(y_test,y_pred)"
      ],
      "execution_count": null,
      "outputs": [
        {
          "output_type": "execute_result",
          "data": {
            "text/plain": [
              "array([[6348,    0],\n",
              "       [1652,    0]])"
            ]
          },
          "metadata": {
            "tags": []
          },
          "execution_count": 86
        }
      ]
    },
    {
      "cell_type": "code",
      "metadata": {
        "colab": {
          "base_uri": "https://localhost:8080/"
        },
        "id": "-HOlqV0F5XrE",
        "outputId": "5314ed58-d7fe-4b76-9ef3-7c6a6e46885e"
      },
      "source": [
        "accuracy_score(y_test,y_pred)"
      ],
      "execution_count": null,
      "outputs": [
        {
          "output_type": "execute_result",
          "data": {
            "text/plain": [
              "0.7935"
            ]
          },
          "metadata": {
            "tags": []
          },
          "execution_count": 87
        }
      ]
    },
    {
      "cell_type": "code",
      "metadata": {
        "id": "6NQcfH-t5hDH"
      },
      "source": [
        ""
      ],
      "execution_count": null,
      "outputs": []
    }
  ]
}